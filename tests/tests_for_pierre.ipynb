{
 "cells": [
  {
   "cell_type": "code",
   "execution_count": 2,
   "metadata": {},
   "outputs": [],
   "source": [
    "import numpy as np"
   ]
  },
  {
   "cell_type": "code",
   "execution_count": 21,
   "metadata": {},
   "outputs": [],
   "source": [
    "k_values = np.arange(0.01,1,0.2)+0.1\n",
    "\n",
    "binwidth=0.2\n",
    "kbins=[]\n",
    "for i in np.arange(0,len(k_values)):\n",
    "    for j in np.arange(i,len(k_values)):\n",
    "        for k in np.arange(j,len(k_values)):\n",
    "            k1=k_values[i]\n",
    "            k2=k_values[j]\n",
    "            k3=k_values[k]\n",
    "            if(k1+k2>=k3):\n",
    "                kbins.append([k1-binwidth/2, k2-binwidth/2, k2-binwidth/2, k1, k2, k3, k1+binwidth/2, k2+binwidth/2, k2+binwidth/2])\n",
    "kbins = np.array(kbins)   "
   ]
  },
  {
   "cell_type": "code",
   "execution_count": 22,
   "metadata": {},
   "outputs": [
    {
     "data": {
      "text/plain": [
       "5"
      ]
     },
     "execution_count": 22,
     "metadata": {},
     "output_type": "execute_result"
    }
   ],
   "source": [
    "len(k_values)"
   ]
  },
  {
   "cell_type": "code",
   "execution_count": 23,
   "metadata": {},
   "outputs": [
    {
     "data": {
      "text/plain": [
       "array([[0.01, 0.01, 0.01, 0.11, 0.11, 0.11, 0.21, 0.21, 0.21],\n",
       "       [0.01, 0.21, 0.21, 0.11, 0.31, 0.31, 0.21, 0.41, 0.41],\n",
       "       [0.01, 0.41, 0.41, 0.11, 0.51, 0.51, 0.21, 0.61, 0.61],\n",
       "       [0.01, 0.61, 0.61, 0.11, 0.71, 0.71, 0.21, 0.81, 0.81],\n",
       "       [0.01, 0.81, 0.81, 0.11, 0.91, 0.91, 0.21, 1.01, 1.01],\n",
       "       [0.21, 0.21, 0.21, 0.31, 0.31, 0.31, 0.41, 0.41, 0.41],\n",
       "       [0.21, 0.21, 0.21, 0.31, 0.31, 0.51, 0.41, 0.41, 0.41],\n",
       "       [0.21, 0.41, 0.41, 0.31, 0.51, 0.51, 0.41, 0.61, 0.61],\n",
       "       [0.21, 0.41, 0.41, 0.31, 0.51, 0.71, 0.41, 0.61, 0.61],\n",
       "       [0.21, 0.61, 0.61, 0.31, 0.71, 0.71, 0.41, 0.81, 0.81],\n",
       "       [0.21, 0.61, 0.61, 0.31, 0.71, 0.91, 0.41, 0.81, 0.81],\n",
       "       [0.21, 0.81, 0.81, 0.31, 0.91, 0.91, 0.41, 1.01, 1.01],\n",
       "       [0.41, 0.41, 0.41, 0.51, 0.51, 0.51, 0.61, 0.61, 0.61],\n",
       "       [0.41, 0.41, 0.41, 0.51, 0.51, 0.71, 0.61, 0.61, 0.61],\n",
       "       [0.41, 0.41, 0.41, 0.51, 0.51, 0.91, 0.61, 0.61, 0.61],\n",
       "       [0.41, 0.61, 0.61, 0.51, 0.71, 0.71, 0.61, 0.81, 0.81],\n",
       "       [0.41, 0.61, 0.61, 0.51, 0.71, 0.91, 0.61, 0.81, 0.81],\n",
       "       [0.41, 0.81, 0.81, 0.51, 0.91, 0.91, 0.61, 1.01, 1.01],\n",
       "       [0.61, 0.61, 0.61, 0.71, 0.71, 0.71, 0.81, 0.81, 0.81],\n",
       "       [0.61, 0.61, 0.61, 0.71, 0.71, 0.91, 0.81, 0.81, 0.81],\n",
       "       [0.61, 0.81, 0.81, 0.71, 0.91, 0.91, 0.81, 1.01, 1.01],\n",
       "       [0.81, 0.81, 0.81, 0.91, 0.91, 0.91, 1.01, 1.01, 1.01]])"
      ]
     },
     "execution_count": 23,
     "metadata": {},
     "output_type": "execute_result"
    }
   ],
   "source": [
    "kbins"
   ]
  },
  {
   "cell_type": "code",
   "execution_count": 24,
   "metadata": {},
   "outputs": [],
   "source": [
    "outfn=\"customKbins_pierre.dat\"\n",
    "np.savetxt(outfn, kbins)"
   ]
  },
  {
   "cell_type": "code",
   "execution_count": 28,
   "metadata": {},
   "outputs": [
    {
     "name": "stdout",
     "output_type": "stream",
     "text": [
      "Finished reading CMD line arguments\n",
      "Settings:\n",
      "Boxsize: 1000.0 Mpc/h\n",
      "Grid Cells (1D): 512\n",
      "Using ks from customKbins_pierre.dat\n",
      "Reading density files from ../tests/testRun_input.dat\n",
      "Writing output to binwidth0.2\n",
      "Calculating and outputting effective triangles\n",
      "Finished setting members of bispectrumExtractor\n",
      "Creating k-mesh\n",
      "Finished initialization BispectrumExtractor\n",
      "Finished calculating bispectrum norm\n",
      "Needed 11.471549034118652 seconds to run\n",
      "Finished calculating effective triangles\n",
      "Needed 19.042441844940186 seconds to run\n",
      "Calculating bispectrum for ../examples/test_grid_512_1.npy\n",
      "\n",
      "Doing Fourier Transformation of density field\n",
      "Doing Bispec calculation\n",
      "Finished bispectrum calculation\n",
      "Needed 11.757795095443726 seconds to run\n",
      "Written output to binwidth0.2test_grid_512_1.dat\n",
      "Calculating bispectrum for ../examples/test_grid_512_2.npy\n",
      "Doing Fourier Transformation of density field\n",
      "Doing Bispec calculation\n",
      "Finished bispectrum calculation\n",
      "Needed 8.119796514511108 seconds to run\n",
      "Written output to binwidth0.2test_grid_512_2.dat\n"
     ]
    }
   ],
   "source": [
    "!python ../scripts/runBispectrumExtractor_customKbins.py --L 1000 --Nmesh 512 --kbinFile customKbins_pierre.dat --outfn binwidth0.2 --infiles ../tests/testRun_input.dat --verbose --doTiming --filetype numpy --effectiveTriangles"
   ]
  },
  {
   "cell_type": "code",
   "execution_count": null,
   "metadata": {},
   "outputs": [],
   "source": []
  }
 ],
 "metadata": {
  "kernelspec": {
   "display_name": "nbodykit-env",
   "language": "python",
   "name": "python3"
  },
  "language_info": {
   "codemirror_mode": {
    "name": "ipython",
    "version": 3
   },
   "file_extension": ".py",
   "mimetype": "text/x-python",
   "name": "python",
   "nbconvert_exporter": "python",
   "pygments_lexer": "ipython3",
   "version": "3.8.17"
  }
 },
 "nbformat": 4,
 "nbformat_minor": 2
}
